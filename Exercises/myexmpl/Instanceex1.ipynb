{
 "cells": [
  {
   "cell_type": "code",
   "execution_count": 7,
   "metadata": {},
   "outputs": [],
   "source": [
    "class Car:\n",
    "    def __init__(self,color,mileage):\n",
    "        self.color = color\n",
    "        self.mileage = mileage\n",
    "    def __str__(self):\n",
    "        return f\"The {self.color} car has {self.mileage:,} miles\"     "
   ]
  },
  {
   "cell_type": "code",
   "execution_count": 8,
   "metadata": {},
   "outputs": [],
   "source": [
    "# Creating instances of the Car class\n",
    "blue_car = Car(color=\"blue\", mileage=20000)\n",
    "red_car = Car(color=\"red\", mileage=30000)"
   ]
  },
  {
   "cell_type": "code",
   "execution_count": 9,
   "metadata": {},
   "outputs": [
    {
     "name": "stdout",
     "output_type": "stream",
     "text": [
      "The blue car has 20,000 miles\n",
      "The red car has 30,000 miles\n"
     ]
    }
   ],
   "source": [
    "for car in (blue_car, red_car):\n",
    "    print(car)\n"
   ]
  }
 ],
 "metadata": {
  "kernelspec": {
   "display_name": "venv",
   "language": "python",
   "name": "python3"
  },
  "language_info": {
   "codemirror_mode": {
    "name": "ipython",
    "version": 3
   },
   "file_extension": ".py",
   "mimetype": "text/x-python",
   "name": "python",
   "nbconvert_exporter": "python",
   "pygments_lexer": "ipython3",
   "version": "3.9.13"
  }
 },
 "nbformat": 4,
 "nbformat_minor": 2
}
