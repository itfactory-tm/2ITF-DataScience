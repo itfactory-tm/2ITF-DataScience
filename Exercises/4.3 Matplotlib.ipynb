{
 "cells": [
  {
   "cell_type": "markdown",
   "metadata": {},
   "source": [
    "### Exercise 1\n",
    "Nicholas and Jordan went on holidays with their families. They decided to monitor the kilometers they traveled by keeping track of the time and the distance they were on the road. The boys collected the following data:  \n",
    "\n",
    "Nicholas:  \n",
    "\n",
    "Time (hr)| 1 | 2 | 3 | 4 | 5 | 6\n",
    "--------|---|---|---|---|---|---\n",
    " **Distance (kilometers)**| 60 | 110 | 175 | 235 | 280 | 320\n",
    "\n",
    "\n",
    "Jordan:\n",
    "Time (hr)| 1 | 2 | 3 | 4 | 5 | 6\n",
    "--------|---|---|---|---|---|---\n",
    " **Distance (kilometers)**| 50 | 90 | 125 | 125 | 165 | 210\n",
    "\n",
    "Draw a graph to show the trip of each boy.  \n",
    "What conclusions could you draw by looking at the graphs?"
   ]
  },
  {
   "cell_type": "code",
   "execution_count": null,
   "metadata": {},
   "outputs": [],
   "source": [
    "import matplotlib.pyplot as plt\n",
    "import numpy as np #or just use lists/tuples\n",
    "\n",
    "nicholas = np.array([0,60,110,175,235,280,320])\n",
    "jordan = np.array([0,50,90,125,125,165,210])\n",
    "\n",
    "# ...\n",
    "\n",
    "plt.show()"
   ]
  },
  {
   "cell_type": "markdown",
   "metadata": {},
   "source": [
    "### Exercise 2\n",
    "Here is the data for the number of ice cream cones sold each week at an ice cream stand during the months of June, July and August.  \n",
    "\n",
    "\n",
    "Week |June |July |August\n",
    "---------|----------|---------|---------\n",
    " Week 1 | 500 | 800 |700\n",
    " Week 2 | 800 | 900 |1000\n",
    " Week 3| 700 | 600 |800\n",
    " Week 4| 800 | 800 |900  \n",
    "\n",
    "Create a bar chart to compare the weekly data for June, July and August."
   ]
  },
  {
   "cell_type": "code",
   "execution_count": null,
   "metadata": {},
   "outputs": [],
   "source": [
    "import matplotlib.pyplot as plt\n",
    "import numpy as np #or just use lists/tuples\n",
    "\n",
    "number_of_cones_june = np.array([500,800,700,800]) \n",
    "number_of_cones_july = np.array([800,900,600,800]) \n",
    "number_of_cones_august = np.array([700,1000,800,900])\n",
    "weeks = ('week 1', 'week 2', 'week 3' , 'week 4')\n",
    "\n",
    "# ...\n",
    "\n",
    "plt.show()"
   ]
  },
  {
   "cell_type": "markdown",
   "metadata": {},
   "source": [
    "### Exercise 3\n",
    "Scientists have invented a new dietary supplement that is supposed to increase the weight of a piglet within its first 3 months of growth. Farmer John fed this supplement to his stock of piglets, and at the end of 3 months, he recorded the weights of 50 randomly selected piglets.\n",
    "\n",
    "The following array is the recorded weights (in pounds) of the 50 selected piglets:  \n",
    "\n",
    "```\n",
    "_array([115, 121, 100,  80, 114,  92, 112,  65,  90, 91,  113,  82, 121,\n",
    "       120, 118,  94,  96, 121, 116, 107,  89, 108, 112,  67,  85,  86,\n",
    "        95, 101, 107,  98,  96,  88,  108,  112, 114, 122,  85,  105,  83,123,  97, 116, 94, 120,  80,  94, 107,  68,  110,  81])_  \n",
    "```\n",
    "\n",
    "Draw a graph to represent this data in a meaningful way.\n",
    "What can you conclude?\n",
    "\n",
    "\n"
   ]
  },
  {
   "cell_type": "code",
   "execution_count": null,
   "metadata": {},
   "outputs": [],
   "source": [
    "the_array = [115, 121, 100,  80, 114,  92, 112,  65,  90, 91,  113,  82, 121,\n",
    "       120, 118,  94,  96, 121, 116, 107,  89, 108, 112,  67,  85,  86,\n",
    "        95, 101, 107,  98,  96,  88,  108,  112, 114, 122,  85,  105,  83,123,  97, 116, 94, 120,  80,  94, 107,  68,  110,  81]\n",
    "\n",
    "# ..."
   ]
  },
  {
   "cell_type": "markdown",
   "metadata": {},
   "source": [
    "### Exercise 4\n",
    "\n",
    "The following table consists of the marks achieved by 9 students on chemistry and math tests:\n",
    "\n",
    "\n",
    "Student | A | B | C | D | E | F | G | H | I\n",
    "--------|---|---|---|---|---|---|---|---|--\n",
    " **Chemistry marks** | 49 | 46 | 35 | 58 | 51 | 56 | 46 | 53 | 39\n",
    " **Math marks** | 29 | 23 | 10 | 40 | 38 | 36 | 32 | 28| 18 | \n",
    "\n",
    "The question is whether students with high marks in maths are also good at chemistry.  Choose a graph type suitable for investigating whether or not there a relationship or connection exists between 2 sets of data.\n",
    "\n"
   ]
  },
  {
   "cell_type": "code",
   "execution_count": null,
   "metadata": {},
   "outputs": [],
   "source": [
    "import matplotlib.pyplot as plt\n",
    "import numpy as np\n",
    "chemistry_marks = np.array([49, 46,35,58,51,56, 46, 35, 39])\n",
    "math_marks = np.array([29, 23,10,40,38,36, 32, 28, 18])\n",
    "\n",
    "# ...\n",
    "\n",
    "plt.show()"
   ]
  },
  {
   "cell_type": "markdown",
   "metadata": {},
   "source": [
    "### Exercise 5\n",
    "\n",
    "The Red Cross Blood Donor Clinic had a very successful morning collecting blood donations. Within 3 hours, 25 people had made donations, and the following is a table showing the blood types of the donations:\n",
    "\n",
    "Blood Type | A | B | O | AB\n",
    "-----------|---|---|---|---\n",
    " **Number of donors** | 9 | 5 | 7 | 4\n",
    "\n",
    "Plot the donations so that it is clear what percentage of each blood type was collected that morning.\n"
   ]
  },
  {
   "cell_type": "code",
   "execution_count": null,
   "metadata": {},
   "outputs": [],
   "source": [
    "from tracemalloc import start\n",
    "import matplotlib.pyplot as plt\n",
    "import numpy as np  #or just use lists/tuples\n",
    "\n",
    "blood_types = np.array(['A','B','O','AB'])\n",
    "number_of_donors = np.array ([9,5,7,4])\n",
    "\n",
    "# ...\n",
    "\n",
    "plt.show()"
   ]
  },
  {
   "cell_type": "markdown",
   "metadata": {},
   "source": [
    "### Exercise 6\n",
    "\n",
    "We found the following image on the internet:\n",
    "\n",
    "![](files/2022-11-06-10-35-09.png)\n",
    "\n",
    "Create a scatter plot of the ticket prices. We'll give you a list of the prices ready for you:"
   ]
  },
  {
   "cell_type": "code",
   "execution_count": null,
   "metadata": {},
   "outputs": [],
   "source": [
    "prices_list = [[1,1],[5,10],[10,15],[15,20],[20,25],[25,30],[30,35],[35,40]]"
   ]
  },
  {
   "cell_type": "markdown",
   "metadata": {},
   "source": [
    "(Use a list comprehension to turn it into np.arrays.)"
   ]
  },
  {
   "cell_type": "code",
   "execution_count": null,
   "metadata": {},
   "outputs": [],
   "source": []
  },
  {
   "cell_type": "markdown",
   "metadata": {},
   "source": [
    "Now make a graph of the price per ticket vs nr of tickets bought."
   ]
  },
  {
   "cell_type": "code",
   "execution_count": null,
   "metadata": {},
   "outputs": [],
   "source": []
  }
 ],
 "metadata": {
  "kernelspec": {
   "display_name": "Python 3.10.2 ('venv': venv)",
   "language": "python",
   "name": "python3"
  },
  "language_info": {
   "codemirror_mode": {
    "name": "ipython",
    "version": 3
   },
   "file_extension": ".py",
   "mimetype": "text/x-python",
   "name": "python",
   "nbconvert_exporter": "python",
   "pygments_lexer": "ipython3",
   "version": "3.10.2"
  },
  "orig_nbformat": 4,
  "vscode": {
   "interpreter": {
    "hash": "e31c2e8d3ed3a4908bbc2c2b66173ad7e7558239e8d6f52669fbf04aeb9634e1"
   }
  }
 },
 "nbformat": 4,
 "nbformat_minor": 2
}
