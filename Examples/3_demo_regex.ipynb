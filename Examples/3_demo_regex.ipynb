{
 "cells": [
  {
   "cell_type": "code",
   "execution_count": 1,
   "metadata": {},
   "outputs": [],
   "source": [
    "# import regex library\n",
    "import re"
   ]
  },
  {
   "cell_type": "code",
   "execution_count": 2,
   "metadata": {},
   "outputs": [],
   "source": [
    "#string to search in\n",
    "s = \"I went to the zoo and saw _lions_, _tigers_ and _meerkats_.\""
   ]
  },
  {
   "cell_type": "code",
   "execution_count": 3,
   "metadata": {},
   "outputs": [
    {
     "name": "stdout",
     "output_type": "stream",
     "text": [
      "lion found at position 27\n"
     ]
    }
   ],
   "source": [
    "# course Python in 1ITF\n",
    "to_search = 'lion'\n",
    "if to_search in s:\n",
    "    print (to_search,'found', 'at position', s.find('lion'))\n",
    "else:\n",
    "    print(to_search, 'is not found')"
   ]
  },
  {
   "cell_type": "code",
   "execution_count": 5,
   "metadata": {},
   "outputs": [
    {
     "name": "stdout",
     "output_type": "stream",
     "text": [
      "<re.Match object; span=(27, 31), match='lion'>\n",
      "In -- I went to the zoo and saw _lions_, _tigers_ and _meerkats_. --  the word lion is found between position 27 and 31\n",
      "None\n",
      "Nothing there ...\n"
     ]
    }
   ],
   "source": [
    "# course Data Science in 2ITF\n",
    "# example found\n",
    "# r'lion' stands for raw string\n",
    "found = re.search(r'lion', s)\n",
    "print(found)\n",
    "#found is an object with props and methods\n",
    "print ('In --', found.string,'--  the word', found.group() , 'is found','between position',found.start(), 'and', found.end())\n",
    "\n",
    "# example not found\n",
    "not_found = re.search(r'flamingo', s)\n",
    "print(not_found)\n",
    "\n",
    "# inline if or shorthand if \n",
    "to_search = r'flamingo'\n",
    "#to_search = r'lion'\n",
    "print ('We found it') if re.search(to_search,s) else print('Nothing there ...')"
   ]
  },
  {
   "cell_type": "code",
   "execution_count": 6,
   "metadata": {},
   "outputs": [
    {
     "name": "stdout",
     "output_type": "stream",
     "text": [
      "Nothing there ...\n"
     ]
    }
   ],
   "source": [
    "# match() method looks for pattern only in beginning of string\n",
    "to_search = r'lion'\n",
    "print ('We found it') if re.match(to_search,s) else print('Nothing there ...')"
   ]
  },
  {
   "cell_type": "code",
   "execution_count": 36,
   "metadata": {},
   "outputs": [
    {
     "name": "stdout",
     "output_type": "stream",
     "text": [
      "_lions_, _tigers_ and _meerkats_\n"
     ]
    }
   ],
   "source": [
    "#find first animal between underscores\n",
    "found = re.search(r'_.*_',s)\n",
    "print(found.group())"
   ]
  },
  {
   "cell_type": "code",
   "execution_count": 55,
   "metadata": {},
   "outputs": [
    {
     "name": "stdout",
     "output_type": "stream",
     "text": [
      "_lions_\n",
      "_lions_\n",
      "_lions_\n"
     ]
    }
   ],
   "source": [
    "#find first animal between underscores (option 1)\n",
    "found = re.search(r'_[a-zA-Z]*_',s)\n",
    "print(found.group())\n",
    "#find first animal between underscores (option 2)\n",
    "found = re.search(r'_[^_]*_',s)\n",
    "print(found.group())\n",
    "#find first animal between underscores (option 3)\n",
    "found = re.search(r'_\\w*_',s)\n",
    "print(found.group())"
   ]
  },
  {
   "cell_type": "code",
   "execution_count": 21,
   "metadata": {},
   "outputs": [
    {
     "name": "stdout",
     "output_type": "stream",
     "text": [
      "<re.Match object; span=(26, 33), match='_lions_'>\n",
      "<re.Match object; span=(35, 43), match='_tigers_'>\n",
      "<re.Match object; span=(48, 58), match='_meerkats_'>\n"
     ]
    }
   ],
   "source": [
    "#find all animals between underscores\n",
    "animals = re.finditer(r'_[a-zA-Z]*_',s)\n",
    "# finditer returns an iterator with match objects\n",
    "# print(*animals)\n",
    "# show results with iterator and next()\n",
    "print (next(animals))\n",
    "print (next(animals))\n",
    "print (next(animals))\n",
    "   \n",
    "# show results with iterator \n",
    "# for animal in animals:  \n",
    "#     print(animal.group())   \n",
    "\n",
    "\n",
    "      "
   ]
  },
  {
   "cell_type": "code",
   "execution_count": 22,
   "metadata": {},
   "outputs": [
    {
     "name": "stdout",
     "output_type": "stream",
     "text": [
      "['_lions_', '_tigers_', '_meerkats_']\n",
      "['lions', 'tigers', 'meerkats']\n",
      "['lions', 'tigers', 'meerkats']\n"
     ]
    }
   ],
   "source": [
    "#find all animals between underscores\n",
    "animals = re.findall(r'_[a-zA-Z]*_',s)\n",
    "# findall returns a list with matching results\n",
    "print(animals)\n",
    "# list comprehension to strip '_' (option 1)\n",
    "animals = [animal.strip('_') for animal in animals]\n",
    "print(animals)\n",
    "# adjust the regex to strip '_' (option 2) \n",
    "animals = re.findall(r'_([a-zA-Z]*)_',s)\n",
    "print(animals)"
   ]
  },
  {
   "cell_type": "code",
   "execution_count": 78,
   "metadata": {},
   "outputs": [
    {
     "name": "stdout",
     "output_type": "stream",
     "text": [
      "I went to the zoo and saw lions, tigers and meerkats.\n"
     ]
    }
   ],
   "source": [
    "#replace underscores in original string with blanks ''\n",
    "result = re.sub('_','',s)\n",
    "print (result)"
   ]
  },
  {
   "cell_type": "code",
   "execution_count": 94,
   "metadata": {},
   "outputs": [
    {
     "name": "stdout",
     "output_type": "stream",
     "text": [
      "I went X Xe zoo and saw _lions_, _Xgers_ and _meerkaX_.\n",
      "I wenX Xo Xhe zoo and saw _lions_, _Xigers_ and _meerkaXs_.\n",
      "I went Xo Xhe zoo and saw _lions_, _Xigers_ and _meerkaXs_.\n"
     ]
    }
   ],
   "source": [
    "# replace every t followed by a letter with an X\n",
    "# wrong solution\n",
    "new_s = re.sub(r\"t[a-zA-Z]\", r\"X\", s)\n",
    "print(new_s)\n",
    "# correct solution (option 1)\n",
    "new_s = re.sub(r\"t[a-zA-Z]{0}\", r\"X\", s)\n",
    "print(new_s)\n",
    "# correct solution (option 2)\n",
    "new_s = re.sub(r\"t([a-zA-Z])\", r\"X\\1\", s)\n",
    "print(new_s)\n"
   ]
  },
  {
   "cell_type": "code",
   "execution_count": 23,
   "metadata": {},
   "outputs": [
    {
     "name": "stdout",
     "output_type": "stream",
     "text": [
      "<re.Match object; span=(0, 6), match='hannah'>\n",
      "None\n",
      "<re.Match object; span=(4, 7), match='eke'>\n",
      "None\n"
     ]
    }
   ],
   "source": [
    "#first character the same as last\n",
    "found = re.match(r\"(.{1}).*\\1$\", \"hannah\")\n",
    "print(found)\n",
    "found = re.match(r\"(.{1}).*\\1$\", \"casper\")\n",
    "print(found)\n",
    "# what happens? \n",
    "found = re.search(r\"(.{1}).*\\1$\", \"marieke\")\n",
    "print(found)\n",
    "\n",
    "# solution to make sure search starts with the first char\n",
    "found = re.search(r\"^(.{1}).*\\1$\", \"marieke\")\n",
    "print(found)\n"
   ]
  }
 ],
 "metadata": {
  "kernelspec": {
   "display_name": "Python 3.10.1 ('venv': venv)",
   "language": "python",
   "name": "python3"
  },
  "language_info": {
   "codemirror_mode": {
    "name": "ipython",
    "version": 3
   },
   "file_extension": ".py",
   "mimetype": "text/x-python",
   "name": "python",
   "nbconvert_exporter": "python",
   "pygments_lexer": "ipython3",
   "version": "3.12.0"
  },
  "orig_nbformat": 4,
  "vscode": {
   "interpreter": {
    "hash": "a5073024fd13a4ada68fc48fe0ec6adeb4357be2c08df39710965d22c5e0b44c"
   }
  }
 },
 "nbformat": 4,
 "nbformat_minor": 2
}
